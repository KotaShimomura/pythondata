{
  "nbformat": 4,
  "nbformat_minor": 0,
  "metadata": {
    "colab": {
      "name": "no3",
      "provenance": [],
      "collapsed_sections": [
        "2DiTL7iqgq3R",
        "rjxa8VmZiUqt",
        "pThbYVkKjsu0",
        "d2zsIFt1l0_y",
        "T2lB3ikWl15O",
        "mx9zVtTkl4kE",
        "ECVAmjQ6l6q8",
        "-GhNTrE-nRIu",
        "KdOSh2PTqzGv",
        "KjyZScZxryEe",
        "lRRlWMoxshfm",
        "GE-MwPIpsjcM",
        "YZqszWgFtIxt",
        "QGKoXaQbtfBe",
        "eVz5rmg5tg2q",
        "F9IcfWf6t2ch",
        "e2crLlgkvBIj",
        "R03KxI3hvCwt",
        "s3ty5iqVvH5S",
        "wFOkOYhRvJhr",
        "3-3XsSJVvLte",
        "aLV455D4wsc3",
        "LB61zayfw_GA",
        "PZs9QcOWxSI3",
        "mAyM2gYlxUF7",
        "E9zjD0xJ6zFn",
        "yo--aUnlJvHT",
        "D9h40nIIYLHl"
      ],
      "toc_visible": true,
      "authorship_tag": "ABX9TyOsei9BVDxGa87QZ/BhwL9V",
      "include_colab_link": true
    },
    "kernelspec": {
      "name": "python3",
      "display_name": "Python 3"
    }
  },
  "cells": [
    {
      "cell_type": "markdown",
      "metadata": {
        "id": "view-in-github",
        "colab_type": "text"
      },
      "source": [
        "<a href=\"https://colab.research.google.com/github/KotaShimomura/pythondata/blob/master/no3.ipynb\" target=\"_parent\"><img src=\"https://colab.research.google.com/assets/colab-badge.svg\" alt=\"Open In Colab\"/></a>"
      ]
    },
    {
      "cell_type": "markdown",
      "metadata": {
        "id": "2DiTL7iqgq3R"
      },
      "source": [
        "#確率"
      ]
    },
    {
      "cell_type": "code",
      "metadata": {
        "id": "F6UWuEOOgzMB"
      },
      "source": [
        "import numpy as np"
      ],
      "execution_count": null,
      "outputs": []
    },
    {
      "cell_type": "code",
      "metadata": {
        "colab": {
          "base_uri": "https://localhost:8080/"
        },
        "id": "lnxITs7YfDJQ",
        "outputId": "3d842549-5ee0-405f-ee1b-5bc3492167b1"
      },
      "source": [
        "np.random.seed(0)\r\n",
        "dice = np.array([1,2,3,4,5,6])\r\n",
        "for i in  range(10):\r\n",
        "  d = np.random.choice(dice)\r\n",
        "  print(d)"
      ],
      "execution_count": null,
      "outputs": [
        {
          "output_type": "stream",
          "text": [
            "5\n",
            "6\n",
            "1\n",
            "4\n",
            "4\n",
            "4\n",
            "2\n",
            "4\n",
            "6\n",
            "3\n"
          ],
          "name": "stdout"
        }
      ]
    },
    {
      "cell_type": "markdown",
      "metadata": {
        "id": "OHOzEVbzhTBg"
      },
      "source": [
        "np.random.choice() は配列からランダムに要素を選択して返します。"
      ]
    },
    {
      "cell_type": "markdown",
      "metadata": {
        "id": "rjxa8VmZiUqt"
      },
      "source": [
        "## 統計的確率\r\n",
        "\r\n",
        "ある試行を $n$ 回繰り返し行って事象 $A$ が $r$ 回起こったとき、事象 $A$ の確率 $P(A)$ を次のように定義します。\r\n",
        "$$ P(A) = \\frac{r}{n} $$\r\n",
        "\r\n",
        "これを**統計的確率**といいます。\r\n",
        "\r\n",
        "サイコロの場合、サイコロを繰り返し振って偶数の目が出た回数を数え、それを試行回数で割ることによって求められます。"
      ]
    },
    {
      "cell_type": "code",
      "metadata": {
        "colab": {
          "base_uri": "https://localhost:8080/"
        },
        "id": "AqjhRw1jhPab",
        "outputId": "0697cbff-4ea1-4ab3-848f-de9ab1f39ca3"
      },
      "source": [
        "import numpy as np\r\n",
        "\r\n",
        "np.random.seed(0)\r\n",
        "N = 1000000\r\n",
        "dice = np.array([1, 2, 3, 4, 5, 6])\r\n",
        "d = np.random.choice(dice, N)\r\n",
        "print(len(d[d%2==0])/N)"
      ],
      "execution_count": null,
      "outputs": [
        {
          "output_type": "stream",
          "text": [
            "0.499394\n"
          ],
          "name": "stdout"
        }
      ]
    },
    {
      "cell_type": "markdown",
      "metadata": {
        "id": "pThbYVkKjsu0"
      },
      "source": [
        "## ベイズの定理\r\n",
        "条件付き確率の定義から、**ベイズの定理**が導かれます。\r\n",
        "$$ P(B\\,|\\,A) = \\frac{P(A\\,|\\,B)P(B)}{P(A\\,|\\,B)P(B) + P(A\\,|\\,B^c)P(B^c)} $$\r\n",
        "ここで、$B^c$　は　$B$ の補集合を表します。\r\n",
        "つまり、$P(B^c)$ は $B$ が起こらない確率であり、$P(B^c) = 1 - P(B)$です。\r\n",
        "\r\n",
        "例えば、次のような新型ウイルスについて考えます。\r\n",
        "*   感染している人の割合が全人口の1%\r\n",
        "*   このウイルスに感染している人にPCR検査を行うと99.99%の確率で正しく陽性と判定できる\r\n",
        "*   このウイルスに感染していない人にPCR検査を行うと0.1%の確率で陽性となってしまう\r\n",
        "\r\n",
        "このとき、ベイズの定理を使って、この検査で陽性となった人が本当にウイルスに感染している確率を求めることができます。\r\n",
        "\r\n",
        "検査で陽性になるという事象を $A$、ウイルスに感染しているという事象を $B$ とします。\r\n",
        "すると、ベイズの定理より、次のように計算できます。"
      ]
    },
    {
      "cell_type": "code",
      "metadata": {
        "colab": {
          "base_uri": "https://localhost:8080/"
        },
        "id": "P_2c1znJjbWU",
        "outputId": "f8931516-8bc3-4687-82b3-a77b1951c032"
      },
      "source": [
        "p = 0.9999 * 0.01 / (0.9999 * 0.01 + 0.001 * 0.99)\r\n",
        "print(p)"
      ],
      "execution_count": null,
      "outputs": [
        {
          "output_type": "stream",
          "text": [
            "0.9099099099099099\n"
          ],
          "name": "stdout"
        }
      ]
    },
    {
      "cell_type": "markdown",
      "metadata": {
        "id": "d2zsIFt1l0_y"
      },
      "source": [
        "## 確率変数と確率分布\r\n",
        "**確率変数**は、確率が割り当てられる値のことです。\r\n",
        "\r\n",
        "サイコロの場合、サイコロの出る目が確率変数となり、その値は $\\{ 1, 2, 3, 4, 5, 6\\}$ のいずれかです。\r\n",
        "\r\n",
        "サイコロを投げて1の目が出る確率は、確率変数を $X$ として $P(X = 1)$ または $P(1)$ と表します。\r\n",
        "\r\n",
        "**確率分布**は、確率変数に対する確率の分布です。\r\n",
        "\r\n",
        "サイコロの場合、確率分布は次のようになります。\r\n",
        "\r\n",
        "$X$ | $1$ | $2$ | $3$ | $4$ | $5$ | $6$\r\n",
        "--- | --- | --- | --- | --- | --- | ---\r\n",
        "$P(X)$ | $\\frac{1}{6}$ | $\\frac{1}{6}$ | $\\frac{1}{6}$ | $\\frac{1}{6}$ | $\\frac{1}{6}$ | $\\frac{1}{6}$\r\n"
      ]
    },
    {
      "cell_type": "markdown",
      "metadata": {
        "id": "T2lB3ikWl15O"
      },
      "source": [
        "## 確率質量関数、確率密度関数、累積分布関数\r\n",
        "**確率質量関数**（**確率関数**）は、離散型の確率変数に対してその確率を対応させる関数であり、記号 $f$ で表します。\r\n",
        "\r\n",
        "サイコロの場合、$f(X) = \\frac{1}{6}$ です。\r\n",
        "\r\n",
        "**確率密度関数**は、連続型の確率変数に対してその確率を対応させる関数であり、同じく記号 $f$ で表します。\r\n",
        "\r\n",
        "**累積分布関数**は、確率変数 $X$ が**ある値 $x$ 以下となる確率**を表す関数であり、記号 $F$ で表します。\r\n",
        "\r\n",
        "離散型の確率変数の場合、$F(x) = P(X \\le x) = \\sum_{X \\le x} f(X)$ となります。\r\n",
        "\r\n",
        "連続型の確率変数の場合、$F(x) = P(X \\le x) = \\int_{-\\infty}^x f(X) dX$ となります。"
      ]
    },
    {
      "cell_type": "markdown",
      "metadata": {
        "id": "mx9zVtTkl4kE"
      },
      "source": [
        "## 主な分布関数"
      ]
    },
    {
      "cell_type": "markdown",
      "metadata": {
        "id": "ECVAmjQ6l6q8"
      },
      "source": [
        "### 一様分布\r\n",
        "**一様分布**は、サイコロのように、すべての事象についてその確率が等しい分布です。\r\n",
        "\r\n",
        "`np.random.randint()` を用いて離散型の一様分布に従って乱数を生成し、$X$の目が出た割合と累積割合を描くと次のようになります。"
      ]
    },
    {
      "cell_type": "code",
      "metadata": {
        "colab": {
          "base_uri": "https://localhost:8080/",
          "height": 309
        },
        "id": "WFHR0_Y6l8zI",
        "outputId": "c49b26bb-5843-42e2-c3e7-cacb48318d62"
      },
      "source": [
        "import numpy as np\r\n",
        "import matplotlib.pyplot as plt\r\n",
        "\r\n",
        "np.random.seed(0)\r\n",
        "N = 1000  # 試行回数\r\n",
        "n = 6  # 確率変数の最大値（最小値は1)\r\n",
        "X = np.arange(1, n+1)\r\n",
        "a = np.random.randint(1, n+1, N)\r\n",
        "hist, bins = np.histogram(a, bins=n)\r\n",
        "f = hist / N  # 割合\r\n",
        "F = np.empty(n)  # 累積割合\r\n",
        "for k in range(n):\r\n",
        "    F[k] = np.sum(f[:k+1])\r\n",
        "\r\n",
        "plt.style.use('ggplot')\r\n",
        "plt.figure(figsize=[12.8, 4.8])\r\n",
        "plt.subplot(1, 2, 1)\r\n",
        "plt.bar(X, f)\r\n",
        "plt.subplot(1, 2, 2)\r\n",
        "plt.bar(X, F)\r\n",
        "plt.show()"
      ],
      "execution_count": null,
      "outputs": [
        {
          "output_type": "display_data",
          "data": {
            "image/png": "[encoded data removed]",
            "text/plain": [
              "<Figure size 921.6x345.6 with 2 Axes>"
            ]
          },
          "metadata": {
            "tags": []
          }
        }
      ]
    },
    {
      "cell_type": "markdown",
      "metadata": {
        "id": "vclF4qZQmEvS"
      },
      "source": [
        "`np.arange()` は指定された範囲の等差数列を `np.ndarray` で返します。\r\n",
        "`np.histogram()` は度数を `np.ndarray` で返します。\r\n",
        "`np.empty()` は指定された長さの空の `np.ndarray` を返します。\r\n",
        "`plt.subplot(nrows, ncols, index)` は、図を縦 `nrows`、横 `ncols` に分割し、グラフを描く場所を `index` で指定します。"
      ]
    },
    {
      "cell_type": "code",
      "metadata": {
        "colab": {
          "base_uri": "https://localhost:8080/",
          "height": 309
        },
        "id": "DUwm5n9VmFvq",
        "outputId": "9d1981fb-127d-4325-fdff-71995892a105"
      },
      "source": [
        "plt.figure(figsize=[12.8, 4.8])\r\n",
        "plt.subplot(1, 2, 1)\r\n",
        "plt.bar(X, f)\r\n",
        "y = np.zeros(n) + 1 / n\r\n",
        "plt.plot(X, y, 'ob')\r\n",
        "plt.subplot(1, 2, 2)\r\n",
        "plt.bar(X, F)\r\n",
        "plt.show()"
      ],
      "execution_count": null,
      "outputs": [
        {
          "output_type": "display_data",
          "data": {
            "image/png": "[encoded data removed]",
            "text/plain": [
              "<Figure size 921.6x345.6 with 2 Axes>"
            ]
          },
          "metadata": {
            "tags": []
          }
        }
      ]
    },
    {
      "cell_type": "markdown",
      "metadata": {
        "id": "DBG-Tb0sm8to"
      },
      "source": [
        "連続形の一様分布に基づいてデータを生成にするには np.random.uniform() を使います。"
      ]
    },
    {
      "cell_type": "markdown",
      "metadata": {
        "id": "-GhNTrE-nRIu"
      },
      "source": [
        "### 二項分布\r\n",
        "「コイン・トスで表が出れば成功」というように、結果が2つしかない試行を**ベルヌーイ試行**といい、確率 $p$ で成功するベルヌーイ試行を$n$回行ったときに $k$ 回成功する確率の分布を**二項分布**といい、$B(n, p)$ と表します。\r\n",
        "$$ P(X = k) = {}_n\\mathrm{C}_k p^k (1 - p)^{n-k} $$\r\n",
        "\r\n",
        "二項分布に従う確率変数の期待値は $E[X] = np$、分散は $V[X] = np(1-p)$ です。\r\n",
        "\r\n",
        "`np.random.binomial()` を用いて二項分布に従ってデータを生成し、10回のコイン・トスを行ったときに$X$回表が出た割合と累積割合を描くと次のようになります。"
      ]
    },
    {
      "cell_type": "code",
      "metadata": {
        "colab": {
          "base_uri": "https://localhost:8080/",
          "height": 343
        },
        "id": "k3UA2IV_m6sC",
        "outputId": "af5eec1e-ed0d-4909-a024-0789c26bd4ea"
      },
      "source": [
        "np.random.seed(0)\r\n",
        "N = 1000000  # 繰り返し数\r\n",
        "n = 10  # 試行回数\r\n",
        "p = 0.5  # 成功確率\r\n",
        "X = np.arange(0, n+1)\r\n",
        "a = np.random.binomial(n, p, N)\r\n",
        "hist, bins = np.histogram(a, bins=n+1)\r\n",
        "f = hist / N  # 割合\r\n",
        "F = np.empty(n+1)  # 累積割合\r\n",
        "for k in range(n+1):\r\n",
        "    F[k] = np.sum(f[:k+1])\r\n",
        "\r\n",
        "plt.style.use('ggplot')\r\n",
        "plt.figure(figsize=[12.8, 4.8])\r\n",
        "plt.subplot(1, 2, 1)\r\n",
        "plt.bar(X, f)\r\n",
        "plt.subplot(1, 2, 2)\r\n",
        "plt.bar(X, F)\r\n",
        "plt.show()\r\n",
        "\r\n",
        "mu = np.mean(a)\r\n",
        "var = np.var(a)\r\n",
        "print('平均:', mu)\r\n",
        "print('分散:', var)"
      ],
      "execution_count": null,
      "outputs": [
        {
          "output_type": "display_data",
          "data": {
            "image/png": "[encoded data removed]",
            "text/plain": [
              "<Figure size 921.6x345.6 with 2 Axes>"
            ]
          },
          "metadata": {
            "tags": []
          }
        },
        {
          "output_type": "stream",
          "text": [
            "平均: 5.002003\n",
            "分散: 2.498062987990999\n"
          ],
          "name": "stdout"
        }
      ]
    },
    {
      "cell_type": "markdown",
      "metadata": {
        "id": "KdOSh2PTqzGv"
      },
      "source": [
        "### ポアソン分布\r\n",
        "二項分布において、試行回数 $n$ が十分に大きく、かつ、成功確率 $p$ が非常に小さい場合、$np$ は一定であると考えることができます。\r\n",
        "$\\lambda = np$ とおくと、ある期間に平均$\\lambda$回起こる現象が、ある期間に$X$回起きる確率の分布を表し、$X = k$となる確率は次のように計算できます。\r\n",
        "$$ P(X = k) = \\frac{e^{-\\lambda} \\lambda^k}{k!} $$\r\n",
        "この確率の分布を**ポアソン分布**といいます。\r\n",
        "ここで、$e$ はネイピア数（自然対数の底）で $e = 2.71828\\dots$ です。\r\n",
        "\r\n",
        "ポアソン分布に従うデータの期待値は $E[X] = \\lambda$、分散も $V[E] = \\lambda$ です。\r\n",
        "\r\n",
        "ポアソン分布がポアソンによって発見されたのは1837年ですが、それから約60年後の1898年になって、ボルトキービッチが20年間に馬に蹴られて死んだ兵士の数を調べたところ、1年間に死ぬ兵士は平均0.61人であり、1年に死んだ兵士数の分布が $\\lambda = 0.61$ のポアソン分布に非常によく似ていることを発見してその有用性が示されました。\r\n",
        "\r\n",
        "`np.random.poisson()` を用いてポアソン分布に従ってデータを生成し、1年間に死んだ兵士が$X$人だった割合と累積割合を描くと次のようになります。"
      ]
    },
    {
      "cell_type": "code",
      "metadata": {
        "colab": {
          "base_uri": "https://localhost:8080/",
          "height": 343
        },
        "id": "-j92rcyEq2bJ",
        "outputId": "3242ff4c-4d1b-48d5-964f-dd787d280ec9"
      },
      "source": [
        "import numpy as np\r\n",
        "import matplotlib.pyplot as plt\r\n",
        "\r\n",
        "np.random.seed(0)\r\n",
        "N = 1000000  # 繰り返し数\r\n",
        "n = 5\r\n",
        "lambda_ = 0.61\r\n",
        "X = np.arange(0, n+1)\r\n",
        "a = np.random.poisson(lambda_, N)\r\n",
        "hist, bins = np.histogram(a, bins=n+1, range=[0,n+1])\r\n",
        "f = hist / N  # 割合\r\n",
        "F = np.empty(n+1)  # 累積割合\r\n",
        "for k in range(n+1):\r\n",
        "    F[k] = np.sum(f[:k+1])\r\n",
        "\r\n",
        "plt.style.use('ggplot')\r\n",
        "plt.figure(figsize=[12.8, 4.8])\r\n",
        "plt.subplot(1, 2, 1)\r\n",
        "plt.bar(X, f)\r\n",
        "plt.xlim(-0.5, n+0.5)\r\n",
        "plt.subplot(1, 2, 2)\r\n",
        "plt.bar(X, F)\r\n",
        "plt.xlim(-0.5, n+0.5)\r\n",
        "plt.show()\r\n",
        "\r\n",
        "mu = np.mean(a)\r\n",
        "var = np.var(a)\r\n",
        "print('平均:', mu)\r\n",
        "print('分散:', var)"
      ],
      "execution_count": null,
      "outputs": [
        {
          "output_type": "display_data",
          "data": {
            "image/png": "[encoded data removed]",
            "text/plain": [
              "<Figure size 921.6x345.6 with 2 Axes>"
            ]
          },
          "metadata": {
            "tags": []
          }
        },
        {
          "output_type": "stream",
          "text": [
            "平均: 0.610873\n",
            "分散: 0.6115831778709997\n"
          ],
          "name": "stdout"
        }
      ]
    },
    {
      "cell_type": "code",
      "metadata": {
        "colab": {
          "base_uri": "https://localhost:8080/",
          "height": 309
        },
        "id": "ny2gO3G_rIvI",
        "outputId": "220f5b6d-5979-48e1-d7eb-6085caaeff40"
      },
      "source": [
        "from scipy.special import factorial\r\n",
        "\r\n",
        "plt.figure(figsize=[12.8, 4.8])\r\n",
        "plt.subplot(1, 2, 1)\r\n",
        "plt.bar(X, f)\r\n",
        "y = np.exp(-lambda_) * lambda_**X / factorial(X)\r\n",
        "plt.plot(X, y, 'ob')\r\n",
        "plt.xlim(-0.5, n+0.5)\r\n",
        "plt.subplot(1, 2, 2)\r\n",
        "plt.bar(X, F)\r\n",
        "plt.xlim(-0.5, n+0.5)\r\n",
        "plt.show()"
      ],
      "execution_count": null,
      "outputs": [
        {
          "output_type": "display_data",
          "data": {
            "image/png": "[encoded data removed]",
            "text/plain": [
              "<Figure size 921.6x345.6 with 2 Axes>"
            ]
          },
          "metadata": {
            "tags": [],
            "needs_background": "light"
          }
        }
      ]
    },
    {
      "cell_type": "markdown",
      "metadata": {
        "id": "KjyZScZxryEe"
      },
      "source": [
        "### 正規分布\r\n",
        "左右対象の連続型の確率分布で、最も重要な確率分布が**正規分布**であり、$N(\\mu, \\sigma)$と表します。\r\n",
        "正規分布の確率密度関数は、以下の式で表されます。\r\n",
        "$$ f(x) = \\frac{1}{\\sqrt{2\\pi \\sigma^2}} \\exp \\left(-\\frac{(x - \\mu)^2}\r\n",
        "{2\\sigma^2} \\right) $$\r\n",
        "ここで、$\\mu$は平均、$\\sigma$は標準偏差を表します。\r\n",
        "\r\n",
        "正規分布に従うデータの期待値は $E[X] = \\mu$、分散は $V[X] = \\sigma^2$ です。\r\n",
        "\r\n",
        "`np.random.normal()` を用いて正規分布に従ってデータを生成し、平均が70点、標準偏差が10点のテストにおいて$X$点を取った学生の割合と累積割合を描くと次のようになります。"
      ]
    },
    {
      "cell_type": "code",
      "metadata": {
        "colab": {
          "base_uri": "https://localhost:8080/",
          "height": 343
        },
        "id": "O95KUxvUrxcC",
        "outputId": "3032cf6c-efd6-401d-b13b-7e28864d0071"
      },
      "source": [
        "import numpy as np\r\n",
        "import matplotlib.pyplot as plt\r\n",
        "\r\n",
        "np.random.seed(0)\r\n",
        "N = 1000000  # 繰り返し数\r\n",
        "n = 100\r\n",
        "mu = 70\r\n",
        "sigma = 10\r\n",
        "X = np.arange(0, n+1)\r\n",
        "a = np.random.normal(mu, sigma, N)\r\n",
        "hist, bins = np.histogram(a, bins=n+1, range=[0,n+1])\r\n",
        "f = hist / N  # 割合\r\n",
        "F = np.empty(n+1)  # 累積割合\r\n",
        "for k in X:\r\n",
        "    F[k] = np.sum(f[:k+1])\r\n",
        "\r\n",
        "plt.style.use('ggplot')\r\n",
        "plt.figure(figsize=[12.8, 4.8])\r\n",
        "plt.subplot(1, 2, 1)\r\n",
        "plt.bar(X, f)\r\n",
        "plt.xlim(-0.5, n+0.5)\r\n",
        "plt.subplot(1, 2, 2)\r\n",
        "plt.bar(X, F)\r\n",
        "plt.xlim(-0.5, n+0.5)\r\n",
        "plt.show()\r\n",
        "\r\n",
        "mu = np.mean(a)\r\n",
        "var = np.var(a)\r\n",
        "print('平均:', mu)\r\n",
        "print('分散:', var)"
      ],
      "execution_count": null,
      "outputs": [
        {
          "output_type": "display_data",
          "data": {
            "image/png": "[encoded data removed]",
            "text/plain": [
              "<Figure size 921.6x345.6 with 2 Axes>"
            ]
          },
          "metadata": {
            "tags": []
          }
        },
        {
          "output_type": "stream",
          "text": [
            "平均: 70.01512146515539\n",
            "分散: 99.98426582229106\n"
          ],
          "name": "stdout"
        }
      ]
    },
    {
      "cell_type": "code",
      "metadata": {
        "colab": {
          "base_uri": "https://localhost:8080/",
          "height": 309
        },
        "id": "4hpqwB2Usbb2",
        "outputId": "aecfcca1-2461-49f4-f941-4aabdceaf37d"
      },
      "source": [
        "plt.figure(figsize=[12.8, 4.8])\r\n",
        "plt.subplot(1, 2, 1)\r\n",
        "plt.bar(X, f)\r\n",
        "y = 1 / np.sqrt(2*np.pi*sigma**2) * np.exp(-(X-mu)**2/(2*sigma**2))\r\n",
        "plt.plot(X, y, '-b')\r\n",
        "plt.xlim(-0.5, n+0.5)\r\n",
        "plt.subplot(1, 2, 2)\r\n",
        "plt.bar(X, F)\r\n",
        "plt.xlim(-0.5, n+0.5)\r\n",
        "plt.show()"
      ],
      "execution_count": null,
      "outputs": [
        {
          "output_type": "display_data",
          "data": {
            "image/png": "[encoded data removed]",
            "text/plain": [
              "<Figure size 921.6x345.6 with 2 Axes>"
            ]
          },
          "metadata": {
            "tags": []
          }
        }
      ]
    },
    {
      "cell_type": "markdown",
      "metadata": {
        "id": "lRRlWMoxshfm"
      },
      "source": [
        "## 大数の法則と中心曲限定理"
      ]
    },
    {
      "cell_type": "markdown",
      "metadata": {
        "id": "GE-MwPIpsjcM"
      },
      "source": [
        "### 大数の法則\r\n",
        "1713年にヤコブ・ベルヌーイが次の**大数の法則**を発見しました。\r\n",
        "\r\n",
        "**標本を大きくすると、標本の平均は母集団の平均に近づく。**\r\n",
        "\r\n",
        "`np.random.randint()` を用いてサイコロを降り、試行回数を増やしたときの平均の推移を描くと次のようになります。"
      ]
    },
    {
      "cell_type": "code",
      "metadata": {
        "colab": {
          "base_uri": "https://localhost:8080/",
          "height": 265
        },
        "id": "kug-FWumskQh",
        "outputId": "eb93f02b-47c1-4515-9a2c-ff983e245159"
      },
      "source": [
        "import numpy as np\r\n",
        "import matplotlib.pyplot as plt\r\n",
        "\r\n",
        "n = 1000\r\n",
        "dice = np.array([1, 2, 3, 4, 5, 6])\r\n",
        "x = np.arange(1, n+1)\r\n",
        "\r\n",
        "plt.style.use('ggplot')\r\n",
        "plt.figure()\r\n",
        "for i in range(100):\r\n",
        "    np.random.seed(i)\r\n",
        "    a = np.random.choice(dice, n)\r\n",
        "    y = np.empty(n)\r\n",
        "    for j in range(n):\r\n",
        "        y[j] = np.mean(a[:j+1])\r\n",
        "    plt.plot(x, y, '-r', alpha=.05)\r\n",
        "plt.show()"
      ],
      "execution_count": null,
      "outputs": [
        {
          "output_type": "display_data",
          "data": {
            "image/png": "[encoded data removed]",
            "text/plain": [
              "<Figure size 432x288 with 1 Axes>"
            ]
          },
          "metadata": {
            "tags": []
          }
        }
      ]
    },
    {
      "cell_type": "markdown",
      "metadata": {
        "id": "YZqszWgFtIxt"
      },
      "source": [
        "### 中心曲限定理\r\n",
        "1733年にド・モアブルが二項分布における**中心極限定理**を発見しました。1810年にラプラスがそれを拡張し、1922年にリンデベルグが一般的な分布において次の中心極限定理が成り立つことを証明しました。\r\n",
        "\r\n",
        "**標本を大きくすると、平均 $\\mu$、分散 $\\sigma^2$ の母集団から抽出した標本の平均の分布は平均 $\\mu$、分散 $\\sigma^2/n$ の正規分布に近づく。**\r\n",
        "\r\n",
        "`np.random.randint()` を用いてサイコロを振り、試行回数を増やした時の平均の分布の推移を描くと次のようになります。"
      ]
    },
    {
      "cell_type": "code",
      "metadata": {
        "colab": {
          "base_uri": "https://localhost:8080/",
          "height": 1000
        },
        "id": "ziLsGeMqtJwj",
        "outputId": "beabd0f8-65ed-469d-ed10-5bb54aec4a28"
      },
      "source": [
        "import numpy as np\r\n",
        "import matplotlib.pyplot as plt\r\n",
        "\r\n",
        "N = 10000\r\n",
        "dice = np.array([1, 2, 3, 4, 5, 6])\r\n",
        "\r\n",
        "plt.style.use('ggplot')\r\n",
        "for i in range(1, 6):\r\n",
        "    print('n =', i)\r\n",
        "    y = np.empty(N)\r\n",
        "    for j in range(N):\r\n",
        "        np.random.seed(j)\r\n",
        "        a = np.random.choice(dice, i)\r\n",
        "        y[j] = np.mean(a)\r\n",
        "    plt.figure()\r\n",
        "    plt.hist(y, bins=51, range=[1, 6.1])\r\n",
        "    plt.show()"
      ],
      "execution_count": null,
      "outputs": [
        {
          "output_type": "stream",
          "text": [
            "n = 1\n"
          ],
          "name": "stdout"
        },
        {
          "output_type": "display_data",
          "data": {
            "image/png": "[encoded data removed]",
            "text/plain": [
              "<Figure size 432x288 with 1 Axes>"
            ]
          },
          "metadata": {
            "tags": []
          }
        },
        {
          "output_type": "stream",
          "text": [
            "n = 2\n"
          ],
          "name": "stdout"
        },
        {
          "output_type": "display_data",
          "data": {
            "image/png": "[encoded data removed]",
            "text/plain": [
              "<Figure size 432x288 with 1 Axes>"
            ]
          },
          "metadata": {
            "tags": []
          }
        },
        {
          "output_type": "stream",
          "text": [
            "n = 3\n"
          ],
          "name": "stdout"
        },
        {
          "output_type": "display_data",
          "data": {
            "image/png": "[encoded data removed]",
            "text/plain": [
              "<Figure size 432x288 with 1 Axes>"
            ]
          },
          "metadata": {
            "tags": []
          }
        },
        {
          "output_type": "stream",
          "text": [
            "n = 4\n"
          ],
          "name": "stdout"
        },
        {
          "output_type": "display_data",
          "data": {
            "image/png": "[encoded data removed]",
            "text/plain": [
              "<Figure size 432x288 with 1 Axes>"
            ]
          },
          "metadata": {
            "tags": []
          }
        },
        {
          "output_type": "stream",
          "text": [
            "n = 5\n"
          ],
          "name": "stdout"
        },
        {
          "output_type": "display_data",
          "data": {
            "image/png": "[encoded data removed]",
            "text/plain": [
              "<Figure size 432x288 with 1 Axes>"
            ]
          },
          "metadata": {
            "tags": []
          }
        }
      ]
    },
    {
      "cell_type": "markdown",
      "metadata": {
        "id": "QGKoXaQbtfBe"
      },
      "source": [
        "# 推定\r\n",
        "標本を図や統計量で示すことを記述統計というのに対し、母集団の情報を標本から推定することを**推定統計**といいます。"
      ]
    },
    {
      "cell_type": "markdown",
      "metadata": {
        "id": "eVz5rmg5tg2q"
      },
      "source": [
        "## 点推定と不偏推定量\r\n",
        "**点推定**とは、推定量を一点で推定する方法です。\r\n",
        "\r\n",
        "推定量の期待値が真の値であるものを**不偏推定量**といいます。\r\n",
        "\r\n",
        "標本平均の期待値は母集団の平均に等しいので、標本平均は母集団の平均の不偏推定量です。\r\n",
        "しかし、標本標準偏差の期待値は母標準偏差に等しくないので、標本標準偏差は母標準偏差の不偏推定量ではありません。"
      ]
    },
    {
      "cell_type": "code",
      "metadata": {
        "colab": {
          "base_uri": "https://localhost:8080/"
        },
        "id": "ACEPjeHIti9_",
        "outputId": "fda377f9-6019-44ed-d5eb-8e710f81810e"
      },
      "source": [
        "import numpy as np\r\n",
        "\r\n",
        "np.random.seed(0)\r\n",
        "a = np.array([1,2,3,4,5,6])\r\n",
        "x = np.random.choice(a,10)\r\n",
        "\r\n",
        "print(x)\r\n",
        "print('標本平均', np.mean(x))"
      ],
      "execution_count": null,
      "outputs": [
        {
          "output_type": "stream",
          "text": [
            "[5 6 1 4 4 4 2 4 6 3]\n",
            "標本平均 3.9\n"
          ],
          "name": "stdout"
        }
      ]
    },
    {
      "cell_type": "markdown",
      "metadata": {
        "id": "F9IcfWf6t2ch"
      },
      "source": [
        "### 不偏分散と不偏標準偏差\r\n",
        "分散を求めるときに標本のサイズ $n$ で割る代わりに $n - 1$ で割ったものを**標本不偏分散**（**不偏分散**）といいます。\r\n",
        "$$ s^2 = \\frac{1}{n - 1} \\sum_{x_i \\in S} (x_i - \\mu)^2$$\r\n",
        "標本不偏分散の平方根をとったものを**標本不偏標準偏差**（**不偏標準偏差**）といいます。\r\n",
        "$$ s = \\sqrt{\\frac{1}{n - 1} \\sum_{x_i \\in S} (x_i - \\mu)^2}$$\r\n",
        "\r\n",
        "不偏分散の期待値は母集団の分散に等しいので、不偏分散は母分散の不偏推定量です。\r\n",
        "また、不偏標準偏差の期待値も母集団の標準偏差に等しいので、不偏標準偏差は母集団の標準偏差の不偏推定量です。\r\n",
        "\r\n",
        "不偏分散を求めるには、`np.var()` にオプション引数 `ddof=1` を指定します。\r\n",
        "同様に、不偏標準偏差を求めるには、`np.std()` にオプション引数 `ddof=`1 を指定します。"
      ]
    },
    {
      "cell_type": "code",
      "metadata": {
        "colab": {
          "base_uri": "https://localhost:8080/"
        },
        "id": "XoVZnTiduUUT",
        "outputId": "c73e7148-ca2b-4a1e-cd53-ce591651182f"
      },
      "source": [
        "import numpy as np\r\n",
        "\r\n",
        "np.random.seed(0)\r\n",
        "a = np.array([1, 2, 3, 4, 5, 6])\r\n",
        "x = np.random.choice(a, 10)\r\n",
        "\r\n",
        "print(x)\r\n",
        "print('標本不変分散', np.var(x, ddof = 1))\r\n",
        "print('標本分散',np.var(x))\r\n",
        "print('標本不変標準偏差:', np.std(x, ddof=1))\r\n",
        "print('標本標準偏差', np.std(x))"
      ],
      "execution_count": null,
      "outputs": [
        {
          "output_type": "stream",
          "text": [
            "[5 6 1 4 4 4 2 4 6 3]\n",
            "標本不変分散 2.5444444444444443\n",
            "標本分散 2.29\n",
            "標本不変標準偏差: 1.5951314818673865\n",
            "標本標準偏差 1.5132745950421556\n"
          ],
          "name": "stdout"
        }
      ]
    },
    {
      "cell_type": "markdown",
      "metadata": {
        "id": "e2crLlgkvBIj"
      },
      "source": [
        "### 分散と標準偏差を求めるときの注意\r\n",
        "`np.var()` と `np.std()` のデフォルトは分散と標準偏差ですが、これはプログラミングの世界では少数派です。\r\n",
        "\r\n",
        "同じPythonでも、標準の`statistics`ライブラリーやデータ分析ライブラリーのPandasは、デフォルトが標本不偏分散と標本不偏標準偏差です。\r\n",
        "\r\n",
        "この他、統計解析ツールのR、表計算ソフトのExcelなども、標本不偏分散と標本不偏標準偏差がデフォルトです。"
      ]
    },
    {
      "cell_type": "markdown",
      "metadata": {
        "id": "R03KxI3hvCwt"
      },
      "source": [
        "## 区間推定、標準不確かさ（標準誤差）、信頼区間"
      ]
    },
    {
      "cell_type": "markdown",
      "metadata": {
        "id": "s3ty5iqVvH5S"
      },
      "source": [
        "### 区間推定\r\n",
        "**区間推定**とは、推定量を区間で推定する方法です。"
      ]
    },
    {
      "cell_type": "markdown",
      "metadata": {
        "id": "wFOkOYhRvJhr"
      },
      "source": [
        "### 標準不確かさ（標準誤差）\r\n",
        "中心極限定理より、平均 $\\mu$、分散 $\\sigma^2$ の母集団の標本平均は平均 $\\mu$、分散 $\\frac{\\sigma^2}{n}$（標準偏差 $\\frac{\\sigma}{\\sqrt{n}}$）の正規分布に従います。\r\n",
        "\r\n",
        "母集団の標準偏差 $\\sigma$ を標本の不偏標準偏差 $s$ で推定し、それを標本の大きさ $n$ の平方根で割ったものを**標準不確かさ**（**標準誤差**）といい、$u$ と表します。\r\n",
        "$$ u = \\frac{s}{\\sqrt{n}}$$\r\n",
        "\r\n",
        "標準不確かさに**包含係数** $k$ を掛けたものを**拡張不確かさ**といい、$U$ と表します。\r\n",
        "$$ U = k \\times u$$"
      ]
    },
    {
      "cell_type": "markdown",
      "metadata": {
        "id": "3-3XsSJVvLte"
      },
      "source": [
        "### 拡張不確かさを用いた信頼区間\r\n",
        "$n \\ge 11$ のとき、測定値の95%が包含係数 $k=2$ の $\\mu \\pm U$ の範囲に含まれます。\r\n",
        "この区間を**信頼区間**、「95%」を**信頼水準**といいます。\r\n",
        "（この方法が国際標準に決まっています。）"
      ]
    },
    {
      "cell_type": "code",
      "metadata": {
        "colab": {
          "base_uri": "https://localhost:8080/"
        },
        "id": "UOfrhW_UwBVR",
        "outputId": "3e4218da-1ff0-48a4-98e4-d157d0a1071e"
      },
      "source": [
        "import numpy as np\r\n",
        "\r\n",
        "np.random.seed(0)\r\n",
        "a = np.array([1, 2, 3, 4, 5, 6])\r\n",
        "x = np.random.choice(a, 100)\r\n",
        "\r\n",
        "n = len(x)\r\n",
        "mu = np.mean(x)\r\n",
        "s = np.std(x, ddof=1)\r\n",
        "u = s / np.sqrt(n)\r\n",
        "U = 2 * u\r\n",
        "print('x = ', mu, '±', U)"
      ],
      "execution_count": null,
      "outputs": [
        {
          "output_type": "stream",
          "text": [
            "x =  3.42 ± 0.3448671241700684\n"
          ],
          "name": "stdout"
        }
      ]
    },
    {
      "cell_type": "markdown",
      "metadata": {
        "id": "aLV455D4wsc3"
      },
      "source": [
        "### t分布を用いた信頼区間\r\n",
        "標本の平均と母集団の平均の偏差を標準不確かさで割ったものは、**t分布**に従うことがわかっています。\r\n",
        "\r\n",
        "t分布は、正規分布によく似た形で、標本の大きさが $n = \\infty$ のとき正規分布に一致します。\r\n",
        "\r\n",
        "そこで、t分布において95%の測定値が含まれる区間を推定したものを**95%信頼区間**（**95%CI**）といいます。\r\n",
        "（医学分野などではこちらが使われています。）"
      ]
    },
    {
      "cell_type": "code",
      "metadata": {
        "colab": {
          "base_uri": "https://localhost:8080/"
        },
        "id": "htMCXaCVwun8",
        "outputId": "0c206cee-19f4-4e96-d03e-872dee4b71e2"
      },
      "source": [
        "from scipy.stats import t\r\n",
        "\r\n",
        "U = t.ppf(0.975, n-1) * u\r\n",
        "print('x = ', mu, '±', U)"
      ],
      "execution_count": null,
      "outputs": [
        {
          "output_type": "stream",
          "text": [
            "x =  3.42 ± 0.3421455968981497\n"
          ],
          "name": "stdout"
        }
      ]
    },
    {
      "cell_type": "markdown",
      "metadata": {
        "id": "l-Xc-uWLw64J"
      },
      "source": [
        "`scipy.stats.t.ppf()` はt分布の累積分布関数が指定した値をとる変数を返します。\r\n",
        "\r\n",
        "\r\n",
        "`0.975` を指定しているのは、上位2.5%の点を調べるためです。片側が2.5%のとき、両側で5%になります。\r\n",
        "`n-1` はt分布の自由度で、標本の大きさから1を引いたものです。"
      ]
    },
    {
      "cell_type": "markdown",
      "metadata": {
        "id": "LB61zayfw_GA"
      },
      "source": [
        "# 検定\r\n",
        "統計量の分布を調べて、「計測した統計量が偶然に起こることはほとんどない」ことを調べることによって、偶然ではないことを示すことを**統計的仮説検定**（**検定**）といいます。"
      ]
    },
    {
      "cell_type": "markdown",
      "metadata": {
        "id": "PZs9QcOWxSI3"
      },
      "source": [
        "## t検定: 平均の差の検定\r\n",
        "統計的検定では、「AとBの間には差がある」という仮説に対して、「AとBの間には差がない」という反対の仮説を立て、後者の仮説が成り立たないことを示すことによって、前者の仮説が成り立つことを示します。\r\n",
        "\r\n",
        "否定される仮説を**帰無仮説**といい、帰無仮説を否定することを**棄却する**といいます。 帰無仮説が棄却されることによって支持される、帰無仮説の反対の仮説を**対立仮説**といいます。\r\n",
        "\r\n",
        "標本の平均と母集団の平均の偏差はt分布に従うことから、t分布を使って「計測した平均の差が偶然に起こることはほとんどないことを調べることによって検定する方法を**t検定**といいます。\r\n",
        "\r\n",
        "「ほとんどない」の基準を**有意水準**といいます。\r\n",
        "5%有意水準なら高々5%の確率でしか起こらない、1%有意水準なら高々1%の確率でしか起こらないことを意味します。\r\n",
        "（5%有意水準がよく使われていますが、統計学者たちは0.5%有意水準を使うよう提案しています。）"
      ]
    },
    {
      "cell_type": "markdown",
      "metadata": {
        "id": "mAyM2gYlxUF7"
      },
      "source": [
        "### 対応のあるt検定\r\n",
        "同じデータセットに対して元の機械学習アルゴリズムと改良したアルゴリズムの平均正解率を比較するときのように、同じものに対する平均に差があることを示すには**対応のあるt検定**を使います。\r\n",
        "\r\n",
        "対応のあるt検定を行うには、有意水準を決めて、`scipy.stats.ttest_rel()` を使います。\r\n",
        "`scipy.stats.ttest_rel()` はt統計量と**p値** (p-value) を返します。"
      ]
    },
    {
      "cell_type": "code",
      "metadata": {
        "colab": {
          "base_uri": "https://localhost:8080/",
          "height": 299
        },
        "id": "PJBVzuktxU6j",
        "outputId": "466416ff-d757-4d82-8c5b-a1107ccc84db"
      },
      "source": [
        "import numpy as np\r\n",
        "from scipy.stats import ttest_rel\r\n",
        "import matplotlib.pyplot as plt\r\n",
        "\r\n",
        "np.random.seed(0)\r\n",
        "n = 1000\r\n",
        "sig_lev = 0.05  # 有意水準\r\n",
        "x1 = np.random.normal(0, 1, n)\r\n",
        "e = np.random.normal(0, 0.01, n)\r\n",
        "x2 = x1 + e\r\n",
        "\r\n",
        "plt.style.use('ggplot')\r\n",
        "plt.figure()\r\n",
        "plt.hist(x1, bins=20, alpha=.5)\r\n",
        "plt.hist(x2, bins=20, alpha=.5)\r\n",
        "plt.show()\r\n",
        "\r\n",
        "t, p = ttest_rel(x1, x2)\r\n",
        "print('p =', p)\r\n",
        "if p < sig_lev:\r\n",
        "    print('統計的有意な差がある')\r\n",
        "else:\r\n",
        "    print('統計的有意な差はない')"
      ],
      "execution_count": null,
      "outputs": [
        {
          "output_type": "display_data",
          "data": {
            "image/png": "[encoded data removed]",
            "text/plain": [
              "<Figure size 432x288 with 1 Axes>"
            ]
          },
          "metadata": {
            "tags": []
          }
        },
        {
          "output_type": "stream",
          "text": [
            "p = 0.6567453190576436\n",
            "統計的有意な差はない\n"
          ],
          "name": "stdout"
        }
      ]
    },
    {
      "cell_type": "markdown",
      "metadata": {
        "id": "E9zjD0xJ6zFn"
      },
      "source": [
        "### 分散が等しくないときの対応のないt検定（ウェルチのt検定）\r\n",
        "ウェルチが発表した分散が等しくないときの対応のないt検定を**ウェルチのt検定**といいます。\r\n",
        "\r\n",
        "ウェルチのt検定を行うには、`scipy.stats.ttest_ind()` にオプション `equal_var=False` を指定します。"
      ]
    },
    {
      "cell_type": "code",
      "metadata": {
        "id": "-q5xnWk1ydgn",
        "colab": {
          "base_uri": "https://localhost:8080/",
          "height": 299
        },
        "outputId": "295fc094-1ce8-425d-f24c-da91d9ef14dd"
      },
      "source": [
        "import numpy as np\r\n",
        "from scipy.stats import ttest_ind\r\n",
        "import matplotlib.pyplot as plt\r\n",
        "\r\n",
        "np.random.seed(0)\r\n",
        "n = 1000\r\n",
        "sig_lev = 0.05  # 有意水準\r\n",
        "x1 = np.random.normal(0.1, 1, n)\r\n",
        "x2 = np.random.normal(-0.1, 2, n)\r\n",
        "\r\n",
        "plt.style.use('ggplot')\r\n",
        "plt.figure()\r\n",
        "plt.hist(x1, bins=20, alpha=.5)\r\n",
        "plt.hist(x2, bins=20, alpha=.5)\r\n",
        "plt.show()\r\n",
        "\r\n",
        "t, p = ttest_ind(x1, x2, equal_var=False)\r\n",
        "print('p =', p)\r\n",
        "if p < sig_lev:\r\n",
        "    print('統計的有意な差がある')\r\n",
        "else:\r\n",
        "    print('統計的有意な差はない')"
      ],
      "execution_count": null,
      "outputs": [
        {
          "output_type": "display_data",
          "data": {
            "image/png": "[encoded data removed]",
            "text/plain": [
              "<Figure size 432x288 with 1 Axes>"
            ]
          },
          "metadata": {
            "tags": []
          }
        },
        {
          "output_type": "stream",
          "text": [
            "p = 0.06388833912134614\n",
            "統計的有意な差はない\n"
          ],
          "name": "stdout"
        }
      ]
    },
    {
      "cell_type": "markdown",
      "metadata": {
        "id": "-oE_HQf_7AEg"
      },
      "source": [
        "以前は、分散が等しいかどうかを(F検定という方法で）検定して、分散に差があると言えないときはスチューデントのt検定を使い、分散に差があると言えるときはウェルチのt検定を使っていました。\r\n",
        "\r\n",
        "最近では、検定に検定を重ねることの弊害が指摘されていて、最初からウェルチのt検定を使えばいいことになっています。"
      ]
    },
    {
      "cell_type": "markdown",
      "metadata": {
        "id": "O3MntPoL7Yyk"
      },
      "source": [
        ""
      ]
    },
    {
      "cell_type": "markdown",
      "metadata": {
        "id": "yo--aUnlJvHT"
      },
      "source": [
        "## 無相関検定: 相関係数の検定\n",
        "「二変数の間に相関がない（$r = 0$）」という帰無仮説を立てて、これを棄却することによって「二変数の間に相関がないとはいえない」とする検定を**無相関検定**といいます。\n",
        "\n",
        "無相関検定を行うには、`scipy.stats.pearsonr()` を使います。"
      ]
    },
    {
      "cell_type": "code",
      "metadata": {
        "colab": {
          "base_uri": "https://localhost:8080/",
          "height": 303
        },
        "id": "zrSH0DeO7CCP",
        "outputId": "c65db69b-c960-483f-d65c-114aa9e65304"
      },
      "source": [
        "import numpy as np\r\n",
        "from scipy.stats import pearsonr\r\n",
        "import matplotlib.pyplot as plt\r\n",
        "\r\n",
        "np.random.seed(0)\r\n",
        "n = 5\r\n",
        "sig_lev = 0.05\r\n",
        "x1 = np.random.normal(0, 1, n)\r\n",
        "x2 = 2 * x1 + np.random.normal(0, 1, n)\r\n",
        "\r\n",
        "plt.style.use('ggplot')\r\n",
        "plt.figure()\r\n",
        "plt.plot(x1, x2, 'o', alpha=.5)\r\n",
        "plt.show()\r\n",
        "\r\n",
        "r, p = pearsonr(x1, x2)\r\n",
        "print('r =', r, ', p = ', p)\r\n",
        "if p < sig_lev:\r\n",
        "    print('統計的有意な相関である')\r\n",
        "else:\r\n",
        "    print('統計的有意な相関ではない')"
      ],
      "execution_count": null,
      "outputs": [
        {
          "output_type": "display_data",
          "data": {
            "image/png": "[encoded data removed]",
            "text/plain": [
              "<Figure size 432x288 with 1 Axes>"
            ]
          },
          "metadata": {
            "tags": []
          }
        },
        {
          "output_type": "stream",
          "text": [
            "r = 0.8772818290167711 , p =  0.05064503255222443\n",
            "統計的有意な相関ではない\n"
          ],
          "name": "stdout"
        }
      ]
    },
    {
      "cell_type": "markdown",
      "metadata": {
        "id": "WZUFVxzaYKZo"
      },
      "source": [
        "# 演習"
      ]
    },
    {
      "cell_type": "markdown",
      "metadata": {
        "id": "D9h40nIIYLHl"
      },
      "source": [
        "## 演習1（ベイズの定理）\r\n",
        "ある企業では、ある製品の8割を春日井工場で、残りの2割を小牧工場で生産している。\r\n",
        "春日井工場では不良品が1%発生し、小牧工場では不良品が2%含まれてしまうことがわかっている。\r\n",
        "\r\n",
        "不良品が1つ見つかったとき、この不良品が春日井工場で生産されたものである確率を求めよ"
      ]
    },
    {
      "cell_type": "code",
      "metadata": {
        "id": "OE5NUdPaYMqt",
        "colab": {
          "base_uri": "https://localhost:8080/"
        },
        "outputId": "7746827e-8105-4687-97d8-4e09114daac5"
      },
      "source": [
        "a = 0.01*0.8/(0.01*0.8+0.02*0.2)\r\n",
        "print(a)"
      ],
      "execution_count": 2,
      "outputs": [
        {
          "output_type": "stream",
          "text": [
            "0.6666666666666666\n"
          ],
          "name": "stdout"
        }
      ]
    },
    {
      "cell_type": "markdown",
      "metadata": {
        "id": "K9-cpr-eYM_q"
      },
      "source": [
        "## 演習2（点推定）\r\n",
        "Irisデータセットに含まれるSetosaのがく片の長さ (Sepal length) について、母集団の平均と標準偏差を推定せよ"
      ]
    },
    {
      "cell_type": "code",
      "metadata": {
        "id": "XsxZ1pxjYQbL",
        "colab": {
          "base_uri": "https://localhost:8080/"
        },
        "outputId": "37618747-45bd-4fc6-a228-f60cdc83c268"
      },
      "source": [
        "import numpy as np\r\n",
        "from sklearn.datasets import load_iris\r\n",
        "\r\n",
        "iris_dataset = load_iris()\r\n",
        "iris = iris_dataset.data\r\n",
        "seto = iris[0:50]\r\n",
        "seto_sepal_len = seto[:,0]\r\n",
        "print(seto_sepal_len)"
      ],
      "execution_count": 3,
      "outputs": [
        {
          "output_type": "stream",
          "text": [
            "[5.1 4.9 4.7 4.6 5.  5.4 4.6 5.  4.4 4.9 5.4 4.8 4.8 4.3 5.8 5.7 5.4 5.1\n",
            " 5.7 5.1 5.4 5.1 4.6 5.1 4.8 5.  5.  5.2 5.2 4.7 4.8 5.4 5.2 5.5 4.9 5.\n",
            " 5.5 4.9 4.4 5.1 5.  4.5 4.4 5.  5.1 4.8 5.1 4.6 5.3 5. ]\n"
          ],
          "name": "stdout"
        }
      ]
    },
    {
      "cell_type": "code",
      "metadata": {
        "id": "E8ZpWpzqYThp",
        "colab": {
          "base_uri": "https://localhost:8080/"
        },
        "outputId": "6788c78b-c1b3-4695-fd62-89194a35db01"
      },
      "source": [
        "heikin = np.mean(seto_sepal_len)\r\n",
        "print(heikin)"
      ],
      "execution_count": 4,
      "outputs": [
        {
          "output_type": "stream",
          "text": [
            "5.006\n"
          ],
          "name": "stdout"
        }
      ]
    },
    {
      "cell_type": "code",
      "metadata": {
        "colab": {
          "base_uri": "https://localhost:8080/"
        },
        "id": "ntE8uQbLdo7U",
        "outputId": "a0824c7a-aaae-42ce-d538-8c10c4e929d5"
      },
      "source": [
        "hensa = np.std(seto_sepal_len,ddof=1)\r\n",
        "print(hensa)"
      ],
      "execution_count": 5,
      "outputs": [
        {
          "output_type": "stream",
          "text": [
            "0.35248968721345136\n"
          ],
          "name": "stdout"
        }
      ]
    },
    {
      "cell_type": "markdown",
      "metadata": {
        "id": "bFPYa2GMYQrs"
      },
      "source": [
        "## 演習3（区間推定）\r\n",
        "Setosaのがく片の長さについて、母集団の平均の区間を包含係数を2とした拡張不確かさを用いて推定せよ。\r\n",
        "\r\n",
        "また、同様に、母集団の平均の95%信頼区間を推定せよ"
      ]
    },
    {
      "cell_type": "code",
      "metadata": {
        "id": "ixRTwmi5YXP-",
        "colab": {
          "base_uri": "https://localhost:8080/"
        },
        "outputId": "072ebea8-2ae7-4435-da3e-608624010147"
      },
      "source": [
        "import numpy as np\r\n",
        "\r\n",
        "n = len(seto_sepal_len)\r\n",
        "mu = np.mean(seto_sepal_len)\r\n",
        "s = np.std(seto_sepal_len, ddof=1)\r\n",
        "u = s / np.sqrt(n)\r\n",
        "U = 2 * u\r\n",
        "print('x = ', mu, '±', U)"
      ],
      "execution_count": 6,
      "outputs": [
        {
          "output_type": "stream",
          "text": [
            "x =  5.006 ± 0.09969913925078261\n"
          ],
          "name": "stdout"
        }
      ]
    },
    {
      "cell_type": "code",
      "metadata": {
        "colab": {
          "base_uri": "https://localhost:8080/"
        },
        "id": "haUrZIdKfWqi",
        "outputId": "05aa064f-4ceb-4148-fc4b-6a9249b0c61b"
      },
      "source": [
        "from scipy.stats import t\r\n",
        "\r\n",
        "U = t.ppf(0.975, n-1) * u\r\n",
        "print('x = ', mu, '±', U)"
      ],
      "execution_count": 7,
      "outputs": [
        {
          "output_type": "stream",
          "text": [
            "x =  5.006 ± 0.10017646056913188\n"
          ],
          "name": "stdout"
        }
      ]
    },
    {
      "cell_type": "markdown",
      "metadata": {
        "id": "fzdE80vgYVzr"
      },
      "source": [
        "## 演習4（分布）\r\n",
        "演習2で求めたSetosaのがく片の長さについて、その平均と不偏標準偏差の正規分布に従うデータを1000点生成し、そのヒストグラムを作成せよ\r\n",
        "\r\n"
      ]
    },
    {
      "cell_type": "code",
      "metadata": {
        "id": "51I9nLEiYbE5",
        "colab": {
          "base_uri": "https://localhost:8080/",
          "height": 265
        },
        "outputId": "e8d2e613-e1f8-4623-95cc-2f23f2a7b16c"
      },
      "source": [
        "import numpy as np\r\n",
        "import matplotlib.pyplot as plt\r\n",
        "\r\n",
        "np.random.seed(0)\r\n",
        "data = np.random.normal(mu, s, 1000)\r\n",
        "data = np.random.normal()\r\n",
        "\r\n",
        "plt.style.use('ggplot')\r\n",
        "plt.figure()\r\n",
        "plt.hist(data,bins =20)\r\n",
        "plt.show()"
      ],
      "execution_count": 9,
      "outputs": [
        {
          "output_type": "display_data",
          "data": {
            "image/png": "[encoded data removed]",
            "text/plain": [
              "<Figure size 432x288 with 1 Axes>"
            ]
          },
          "metadata": {
            "tags": []
          }
        }
      ]
    },
    {
      "cell_type": "markdown",
      "metadata": {
        "id": "3uXqP6eYYbkZ"
      },
      "source": [
        "## 演習5（t検定）\r\n",
        "Virginicaのがく片の長さと花びらの長さ (Petal length) について、その平均に1%有意水準で統計的有意な差があるかどうかを調べよ。\r\n",
        "\r\n",
        "また、Versicolorのがく片の長さとVirginicaのがく片の長さについて、その平均に5%有意水準で統計的有意な差があるかどうかを調べよ"
      ]
    },
    {
      "cell_type": "code",
      "metadata": {
        "id": "31t_YATIYeW5",
        "colab": {
          "base_uri": "https://localhost:8080/"
        },
        "outputId": "a60d5981-ce93-47be-9dfa-0224c2c4dbab"
      },
      "source": [
        "import numpy as np\r\n",
        "from sklearn.datasets import load_iris\r\n",
        "\r\n",
        "iris_dataset = load_iris()\r\n",
        "iris = iris_dataset.data\r\n",
        "vers = iris[50:100]\r\n",
        "virg = iris[100:150]\r\n",
        "vers_sepal_len = vers[:,0]\r\n",
        "virg_sepal_len = virg[:,0]\r\n",
        "virg_petal_len = virg[:,2]\r\n",
        "print(vers_sepal_len)\r\n",
        "print(virg_sepal_len)\r\n",
        "print(virg_petal_len)"
      ],
      "execution_count": 10,
      "outputs": [
        {
          "output_type": "stream",
          "text": [
            "[7.  6.4 6.9 5.5 6.5 5.7 6.3 4.9 6.6 5.2 5.  5.9 6.  6.1 5.6 6.7 5.6 5.8\n",
            " 6.2 5.6 5.9 6.1 6.3 6.1 6.4 6.6 6.8 6.7 6.  5.7 5.5 5.5 5.8 6.  5.4 6.\n",
            " 6.7 6.3 5.6 5.5 5.5 6.1 5.8 5.  5.6 5.7 5.7 6.2 5.1 5.7]\n",
            "[6.3 5.8 7.1 6.3 6.5 7.6 4.9 7.3 6.7 7.2 6.5 6.4 6.8 5.7 5.8 6.4 6.5 7.7\n",
            " 7.7 6.  6.9 5.6 7.7 6.3 6.7 7.2 6.2 6.1 6.4 7.2 7.4 7.9 6.4 6.3 6.1 7.7\n",
            " 6.3 6.4 6.  6.9 6.7 6.9 5.8 6.8 6.7 6.7 6.3 6.5 6.2 5.9]\n",
            "[6.  5.1 5.9 5.6 5.8 6.6 4.5 6.3 5.8 6.1 5.1 5.3 5.5 5.  5.1 5.3 5.5 6.7\n",
            " 6.9 5.  5.7 4.9 6.7 4.9 5.7 6.  4.8 4.9 5.6 5.8 6.1 6.4 5.6 5.1 5.6 6.1\n",
            " 5.6 5.5 4.8 5.4 5.6 5.1 5.1 5.9 5.7 5.2 5.  5.2 5.4 5.1]\n"
          ],
          "name": "stdout"
        }
      ]
    },
    {
      "cell_type": "code",
      "metadata": {
        "id": "GsrvinRxYevK",
        "colab": {
          "base_uri": "https://localhost:8080/"
        },
        "outputId": "2c38a4ab-4024-4c9a-d91d-0a7ed2a70c41"
      },
      "source": [
        "import numpy as np\r\n",
        "from scipy.stats import ttest_rel\r\n",
        "import matplotlib.pyplot as plt\r\n",
        "\r\n",
        "sig_lev = 0.01  # 有意水準\r\n",
        "t,p = ttest_rel(virg_sepal_len, virg_petal_len)\r\n",
        "print('P : ', p)\r\n",
        "if p < sig_lev:\r\n",
        "  print('統計的有意義な差がある')\r\n",
        "else:\r\n",
        "  print('差はない')"
      ],
      "execution_count": 20,
      "outputs": [
        {
          "output_type": "stream",
          "text": [
            "P :  7.985259485031611e-28\n",
            "統計的有意義な差がある\n"
          ],
          "name": "stdout"
        }
      ]
    },
    {
      "cell_type": "code",
      "metadata": {
        "colab": {
          "base_uri": "https://localhost:8080/"
        },
        "id": "plAkUgAeib9r",
        "outputId": "e1475557-7430-485c-9e68-4efe7560f79a"
      },
      "source": [
        "import numpy as np\r\n",
        "from scipy.stats import ttest_rel, ttest_ind#分布が等しいか等しくないかで変わる\r\n",
        "import matplotlib.pyplot as plt\r\n",
        "\r\n",
        "sig_lev = 0.05  # 有意水準\r\n",
        "t,p = ttest_ind(virg_sepal_len, vers_sepal_len, equal_var=False)\r\n",
        "print('P : ', p)\r\n",
        "if p < sig_lev:\r\n",
        "  print('統計的有意義な差がある')\r\n",
        "else:\r\n",
        "  print('差はない')"
      ],
      "execution_count": 26,
      "outputs": [
        {
          "output_type": "stream",
          "text": [
            "P :  1.8661443873771216e-07\n",
            "統計的有意義な差がある\n"
          ],
          "name": "stdout"
        }
      ]
    },
    {
      "cell_type": "markdown",
      "metadata": {
        "id": "WbsDdLPyYhhw"
      },
      "source": [
        "## 演習6（無相関検定）\r\n",
        "Virginicaのがく片の長さと花びらの長さについて、1%有意水準で統計的有意な相関があるか調べよ"
      ]
    },
    {
      "cell_type": "code",
      "metadata": {
        "id": "WjHBPlduYiDt",
        "colab": {
          "base_uri": "https://localhost:8080/",
          "height": 302
        },
        "outputId": "ee15c653-fb10-488a-a886-2bf8e248d481"
      },
      "source": [
        "import numpy as np\r\n",
        "from scipy.stats import pearsonr\r\n",
        "import matplotlib.pyplot as plt\r\n",
        "\r\n",
        "\r\n",
        "x1 = virg_sepal_len\r\n",
        "x2 = virg_petal_len\r\n",
        "sig_lev = 0.01\r\n",
        "\r\n",
        "plt.style.use('ggplot')\r\n",
        "plt.figure()\r\n",
        "plt.plot(x1, x2, 'o', alpha=.5)\r\n",
        "plt.show()\r\n",
        "\r\n",
        "r, p = pearsonr(x1, x2)\r\n",
        "print('r =', r, ', p = ', p)\r\n",
        "if p < sig_lev:\r\n",
        "    print('統計的有意な相関である')\r\n",
        "else:\r\n",
        "    print('統計的有意な相関ではない')"
      ],
      "execution_count": 27,
      "outputs": [
        {
          "output_type": "display_data",
          "data": {
            "image/png": "[encoded data removed]",
            "text/plain": [
              "<Figure size 432x288 with 1 Axes>"
            ]
          },
          "metadata": {
            "tags": []
          }
        },
        {
          "output_type": "stream",
          "text": [
            "r = 0.8642247329355762 , p =  6.29778575890394e-16\n",
            "統計的有意な相関である\n"
          ],
          "name": "stdout"
        }
      ]
    }
  ]
}