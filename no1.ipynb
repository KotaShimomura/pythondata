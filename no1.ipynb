{
  "nbformat": 4,
  "nbformat_minor": 0,
  "metadata": {
    "colab": {
      "name": "no1",
      "provenance": [],
      "collapsed_sections": [],
      "authorship_tag": "ABX9TyNcELadZ0gZLCUGb0i6U9h7",
      "include_colab_link": true
    },
    "kernelspec": {
      "name": "python3",
      "display_name": "Python 3"
    }
  },
  "cells": [
    {
      "cell_type": "markdown",
      "metadata": {
        "id": "view-in-github",
        "colab_type": "text"
      },
      "source": [
        "<a href=\"https://colab.research.google.com/github/KotaShimomura/pythondata/blob/master/no1.ipynb\" target=\"_parent\"><img src=\"https://colab.research.google.com/assets/colab-badge.svg\" alt=\"Open In Colab\"/></a>"
      ]
    },
    {
      "cell_type": "code",
      "metadata": {
        "colab": {
          "base_uri": "https://localhost:8080/"
        },
        "id": "Nrc7dP7SJa3Y",
        "outputId": "a293b973-6188-44ef-edaa-8b0d3268b2db"
      },
      "source": [
        "sq = [1,4,9,16,25]\r\n",
        "sq"
      ],
      "execution_count": null,
      "outputs": [
        {
          "output_type": "execute_result",
          "data": {
            "text/plain": [
              "[1, 4, 9, 16, 25]"
            ]
          },
          "metadata": {
            "tags": []
          },
          "execution_count": 2
        }
      ]
    },
    {
      "cell_type": "code",
      "metadata": {
        "colab": {
          "base_uri": "https://localhost:8080/"
        },
        "id": "qBVJ6D6qI-c3",
        "outputId": "634c73ff-539e-44b3-ee6f-9fdabd2ae050"
      },
      "source": [
        "sq[0]"
      ],
      "execution_count": null,
      "outputs": [
        {
          "output_type": "execute_result",
          "data": {
            "text/plain": [
              "1"
            ]
          },
          "metadata": {
            "tags": []
          },
          "execution_count": 3
        }
      ]
    },
    {
      "cell_type": "code",
      "metadata": {
        "colab": {
          "base_uri": "https://localhost:8080/"
        },
        "id": "onwx2eKdJ5J4",
        "outputId": "1a0c03e5-50a1-44f9-9a2f-4e8c25e5f9dd"
      },
      "source": [
        "sq[2:]"
      ],
      "execution_count": null,
      "outputs": [
        {
          "output_type": "execute_result",
          "data": {
            "text/plain": [
              "[9, 16, 25]"
            ]
          },
          "metadata": {
            "tags": []
          },
          "execution_count": 4
        }
      ]
    },
    {
      "cell_type": "code",
      "metadata": {
        "colab": {
          "base_uri": "https://localhost:8080/"
        },
        "id": "UJwF2_jlJ9ea",
        "outputId": "08a01067-3b1e-457c-da5a-ac77d4428849"
      },
      "source": [
        "sq[:3]"
      ],
      "execution_count": null,
      "outputs": [
        {
          "output_type": "execute_result",
          "data": {
            "text/plain": [
              "[1, 4, 9]"
            ]
          },
          "metadata": {
            "tags": []
          },
          "execution_count": 5
        }
      ]
    },
    {
      "cell_type": "code",
      "metadata": {
        "colab": {
          "base_uri": "https://localhost:8080/"
        },
        "id": "l5Sv4wGuKAkm",
        "outputId": "885c401d-d88b-49b3-d7d5-ab46ced759ad"
      },
      "source": [
        "sq[-2:]"
      ],
      "execution_count": null,
      "outputs": [
        {
          "output_type": "execute_result",
          "data": {
            "text/plain": [
              "[16, 25]"
            ]
          },
          "metadata": {
            "tags": []
          },
          "execution_count": 7
        }
      ]
    },
    {
      "cell_type": "code",
      "metadata": {
        "colab": {
          "base_uri": "https://localhost:8080/"
        },
        "id": "Jwvb5cL5KE6w",
        "outputId": "b21f5c2b-ba7e-4311-f9e5-67bd2469d70a"
      },
      "source": [
        "sq[:-1]"
      ],
      "execution_count": null,
      "outputs": [
        {
          "output_type": "execute_result",
          "data": {
            "text/plain": [
              "[1, 4, 9, 16]"
            ]
          },
          "metadata": {
            "tags": []
          },
          "execution_count": 8
        }
      ]
    },
    {
      "cell_type": "code",
      "metadata": {
        "colab": {
          "base_uri": "https://localhost:8080/"
        },
        "id": "06s_C35PKEz8",
        "outputId": "59fac5e0-8cfd-46eb-ee55-599744218b0b"
      },
      "source": [
        "sq.append(36)\r\n",
        "sq"
      ],
      "execution_count": null,
      "outputs": [
        {
          "output_type": "execute_result",
          "data": {
            "text/plain": [
              "[1, 4, 9, 16, 25, 36]"
            ]
          },
          "metadata": {
            "tags": []
          },
          "execution_count": 10
        }
      ]
    },
    {
      "cell_type": "code",
      "metadata": {
        "colab": {
          "base_uri": "https://localhost:8080/"
        },
        "id": "sKX6izz6KQAw",
        "outputId": "baf95c72-fa15-4fee-8a4c-bb9e59c6a1d7"
      },
      "source": [
        "ls0 = [1,1.2,'123',[1,2,3]]\r\n",
        "ls0"
      ],
      "execution_count": null,
      "outputs": [
        {
          "output_type": "execute_result",
          "data": {
            "text/plain": [
              "[1, 1.2, '123', [1, 2, 3]]"
            ]
          },
          "metadata": {
            "tags": []
          },
          "execution_count": 11
        }
      ]
    },
    {
      "cell_type": "code",
      "metadata": {
        "colab": {
          "base_uri": "https://localhost:8080/"
        },
        "id": "hhRT1SrWKamj",
        "outputId": "7f9928ab-bd3e-441e-d240-0c4c9e10dde7"
      },
      "source": [
        "ls1=[1,2,3]\r\n",
        "ls2 = ls1\r\n",
        "ls2.append(4)\r\n",
        "ls1,ls2"
      ],
      "execution_count": null,
      "outputs": [
        {
          "output_type": "execute_result",
          "data": {
            "text/plain": [
              "([1, 2, 3, 4], [1, 2, 3, 4])"
            ]
          },
          "metadata": {
            "tags": []
          },
          "execution_count": 14
        }
      ]
    },
    {
      "cell_type": "code",
      "metadata": {
        "colab": {
          "base_uri": "https://localhost:8080/"
        },
        "id": "-H6fOy8LK51M",
        "outputId": "1bb80396-c832-40d1-b53f-bdad3297d106"
      },
      "source": [
        "ls1=[1,2,3]\r\n",
        "ls2 = ls1.copy()\r\n",
        "ls2.append(4)\r\n",
        "ls1,ls2"
      ],
      "execution_count": null,
      "outputs": [
        {
          "output_type": "execute_result",
          "data": {
            "text/plain": [
              "([1, 2, 3], [1, 2, 3, 4])"
            ]
          },
          "metadata": {
            "tags": []
          },
          "execution_count": 15
        }
      ]
    },
    {
      "cell_type": "code",
      "metadata": {
        "colab": {
          "base_uri": "https://localhost:8080/"
        },
        "id": "AJHdil2XLDVI",
        "outputId": "83095530-5ddf-43ca-a6b0-36046781cab6"
      },
      "source": [
        "room = {'Yamashita': 6405, 'Matsui': 6407}\r\n",
        "room['Matsui']"
      ],
      "execution_count": null,
      "outputs": [
        {
          "output_type": "execute_result",
          "data": {
            "text/plain": [
              "6407"
            ]
          },
          "metadata": {
            "tags": []
          },
          "execution_count": 18
        }
      ]
    },
    {
      "cell_type": "code",
      "metadata": {
        "colab": {
          "base_uri": "https://localhost:8080/"
        },
        "id": "M5U4vwJmLLV2",
        "outputId": "0b5f11a3-a4aa-4865-b3cc-1310d35acb93"
      },
      "source": [
        "room['akitosi'] = 6406\r\n",
        "room"
      ],
      "execution_count": null,
      "outputs": [
        {
          "output_type": "execute_result",
          "data": {
            "text/plain": [
              "{'Matsui': 6407, 'Yamashita': 6405, 'akitosi': 6406}"
            ]
          },
          "metadata": {
            "tags": []
          },
          "execution_count": 19
        }
      ]
    },
    {
      "cell_type": "code",
      "metadata": {
        "colab": {
          "base_uri": "https://localhost:8080/"
        },
        "id": "Iu9p8qBFLVpY",
        "outputId": "5b446076-74fc-43bb-8f7e-616dc0f9caf2"
      },
      "source": [
        "list(room)"
      ],
      "execution_count": null,
      "outputs": [
        {
          "output_type": "execute_result",
          "data": {
            "text/plain": [
              "['Yamashita', 'Matsui', 'akitosi']"
            ]
          },
          "metadata": {
            "tags": []
          },
          "execution_count": 21
        }
      ]
    },
    {
      "cell_type": "code",
      "metadata": {
        "colab": {
          "base_uri": "https://localhost:8080/"
        },
        "id": "cNY-NxOtLbz9",
        "outputId": "eb220c44-faf0-4b6e-c822-39d9969d6643"
      },
      "source": [
        "'Matsui' in room"
      ],
      "execution_count": null,
      "outputs": [
        {
          "output_type": "execute_result",
          "data": {
            "text/plain": [
              "True"
            ]
          },
          "metadata": {
            "tags": []
          },
          "execution_count": 22
        }
      ]
    },
    {
      "cell_type": "code",
      "metadata": {
        "colab": {
          "base_uri": "https://localhost:8080/"
        },
        "id": "ryQLODbdLhCK",
        "outputId": "d761196c-6bf2-4012-b4ea-5c19dd855376"
      },
      "source": [
        "'kota' in room"
      ],
      "execution_count": null,
      "outputs": [
        {
          "output_type": "execute_result",
          "data": {
            "text/plain": [
              "False"
            ]
          },
          "metadata": {
            "tags": []
          },
          "execution_count": 23
        }
      ]
    },
    {
      "cell_type": "code",
      "metadata": {
        "colab": {
          "base_uri": "https://localhost:8080/"
        },
        "id": "SBsUzb7KLkjU",
        "outputId": "0ad5fe1a-5a7c-44cc-cba8-8c62b09e0f92"
      },
      "source": [
        "x = 1\r\n",
        "if x < 0:\r\n",
        "    print('Negative')\r\n",
        "elif x == 0:\r\n",
        "    print('Zero')\r\n",
        "else:\r\n",
        "    print('Positive')"
      ],
      "execution_count": null,
      "outputs": [
        {
          "output_type": "stream",
          "text": [
            "Positive\n"
          ],
          "name": "stdout"
        }
      ]
    },
    {
      "cell_type": "code",
      "metadata": {
        "colab": {
          "base_uri": "https://localhost:8080/"
        },
        "id": "xe80CfTkLvvn",
        "outputId": "811d67e1-c31f-4a25-d1e9-1a0cb7eceb14"
      },
      "source": [
        "sq = [1,4,9,16,25]\r\n",
        "for s in sq:\r\n",
        "  print(s)"
      ],
      "execution_count": null,
      "outputs": [
        {
          "output_type": "stream",
          "text": [
            "1\n",
            "4\n",
            "9\n",
            "16\n",
            "25\n"
          ],
          "name": "stdout"
        }
      ]
    },
    {
      "cell_type": "code",
      "metadata": {
        "colab": {
          "base_uri": "https://localhost:8080/"
        },
        "id": "jTqvcQRnLvsj",
        "outputId": "2a44e3de-6e80-44d0-a7d7-d8a686574204"
      },
      "source": [
        "for i in range(len(sq)):\r\n",
        "  print(sq[i])\r\n",
        "  #lenで配列の長さを調べ、rangeでインデックスの範囲を指定"
      ],
      "execution_count": null,
      "outputs": [
        {
          "output_type": "stream",
          "text": [
            "1\n",
            "4\n",
            "9\n",
            "16\n",
            "25\n"
          ],
          "name": "stdout"
        }
      ]
    },
    {
      "cell_type": "code",
      "metadata": {
        "colab": {
          "base_uri": "https://localhost:8080/"
        },
        "id": "yilX8AIYMUZa",
        "outputId": "d7d5612a-f4d1-44f7-8902-32fdeb0c316e"
      },
      "source": [
        "range(10)"
      ],
      "execution_count": null,
      "outputs": [
        {
          "output_type": "execute_result",
          "data": {
            "text/plain": [
              "range(0, 10)"
            ]
          },
          "metadata": {
            "tags": []
          },
          "execution_count": 28
        }
      ]
    },
    {
      "cell_type": "code",
      "metadata": {
        "colab": {
          "base_uri": "https://localhost:8080/"
        },
        "id": "4YmO-a1iMkGQ",
        "outputId": "ff6320d2-5272-45e9-bbc9-c7af80c4d5df"
      },
      "source": [
        "list(range(10))"
      ],
      "execution_count": null,
      "outputs": [
        {
          "output_type": "execute_result",
          "data": {
            "text/plain": [
              "[0, 1, 2, 3, 4, 5, 6, 7, 8, 9]"
            ]
          },
          "metadata": {
            "tags": []
          },
          "execution_count": 29
        }
      ]
    },
    {
      "cell_type": "code",
      "metadata": {
        "colab": {
          "base_uri": "https://localhost:8080/"
        },
        "id": "_WGOqmcyMngK",
        "outputId": "9bd61d59-d98f-44cf-a628-be7e1db3de07"
      },
      "source": [
        "room = {'Yamashita': 6405, 'Matsui': 6407}\r\n",
        "for key, value in room.items():\r\n",
        "    print(key, value)"
      ],
      "execution_count": null,
      "outputs": [
        {
          "output_type": "stream",
          "text": [
            "Yamashita 6405\n",
            "Matsui 6407\n"
          ],
          "name": "stdout"
        }
      ]
    },
    {
      "cell_type": "code",
      "metadata": {
        "colab": {
          "base_uri": "https://localhost:8080/"
        },
        "id": "QegK32LRMnxa",
        "outputId": "d36bcfc1-9b88-451d-a838-607778599612"
      },
      "source": [
        "def abs(x):\r\n",
        "  if x < 0:\r\n",
        "    return -x\r\n",
        "  else:\r\n",
        "    return x\r\n",
        "\r\n",
        "abs(-10)\r\n"
      ],
      "execution_count": null,
      "outputs": [
        {
          "output_type": "execute_result",
          "data": {
            "text/plain": [
              "10"
            ]
          },
          "metadata": {
            "tags": []
          },
          "execution_count": 36
        }
      ]
    },
    {
      "cell_type": "code",
      "metadata": {
        "colab": {
          "base_uri": "https://localhost:8080/"
        },
        "id": "iCibCW7wNhC2",
        "outputId": "a498055e-4204-4ec8-b87a-3e777619bed5"
      },
      "source": [
        "def abs(x,y):\r\n",
        "  if x < 0 and y < 0:\r\n",
        "    return -x, -y\r\n",
        "  elif x < 0:\r\n",
        "    return -x, y\r\n",
        "  elif y < 0:\r\n",
        "    return x,-y\r\n",
        "  else:\r\n",
        "    return -x, -y\r\n",
        "\r\n",
        "x, y = abs(-10, -20)\r\n",
        "print(x,y)\r\n"
      ],
      "execution_count": null,
      "outputs": [
        {
          "output_type": "stream",
          "text": [
            "10 20\n"
          ],
          "name": "stdout"
        }
      ]
    },
    {
      "cell_type": "code",
      "metadata": {
        "colab": {
          "base_uri": "https://localhost:8080/"
        },
        "id": "ef8YWD_nNhHt",
        "outputId": "cc4f9572-42b1-4ca3-eb81-2c906c990208"
      },
      "source": [
        "def sum(x, y, z=0, w=10):\r\n",
        "    return x + y + z + w\r\n",
        "\r\n",
        "print(sum(10, 20))\r\n",
        "print(sum(10, 20, 30))\r\n",
        "print(sum(10, 20, 30, 40))"
      ],
      "execution_count": null,
      "outputs": [
        {
          "output_type": "stream",
          "text": [
            "40\n",
            "70\n",
            "100\n"
          ],
          "name": "stdout"
        }
      ]
    },
    {
      "cell_type": "code",
      "metadata": {
        "colab": {
          "base_uri": "https://localhost:8080/"
        },
        "id": "heA_HBt2NhFO",
        "outputId": "82d5e3c9-5eb7-463b-ae12-b2fe1aecc710"
      },
      "source": [
        "sum(10,20,w=40)"
      ],
      "execution_count": null,
      "outputs": [
        {
          "output_type": "execute_result",
          "data": {
            "text/plain": [
              "70"
            ]
          },
          "metadata": {
            "tags": []
          },
          "execution_count": 40
        }
      ]
    },
    {
      "cell_type": "code",
      "metadata": {
        "id": "-RmXxyB0O8St"
      },
      "source": [
        "import numpy as np\r\n"
      ],
      "execution_count": null,
      "outputs": []
    },
    {
      "cell_type": "code",
      "metadata": {
        "colab": {
          "base_uri": "https://localhost:8080/"
        },
        "id": "4hnDjJ4cPBBs",
        "outputId": "cceeb792-62ee-4a6f-f9a4-903cf5cb6e97"
      },
      "source": [
        "a = np.array([1,2,3,4,5,6])\r\n",
        "a"
      ],
      "execution_count": null,
      "outputs": [
        {
          "output_type": "execute_result",
          "data": {
            "text/plain": [
              "array([1, 2, 3, 4, 5, 6])"
            ]
          },
          "metadata": {
            "tags": []
          },
          "execution_count": 42
        }
      ]
    },
    {
      "cell_type": "code",
      "metadata": {
        "colab": {
          "base_uri": "https://localhost:8080/"
        },
        "id": "5qIZXaKWPe9L",
        "outputId": "a47db6f5-b650-4bbb-bcb6-18d674a1be62"
      },
      "source": [
        "a.dtype"
      ],
      "execution_count": null,
      "outputs": [
        {
          "output_type": "execute_result",
          "data": {
            "text/plain": [
              "dtype('int64')"
            ]
          },
          "metadata": {
            "tags": []
          },
          "execution_count": 44
        }
      ]
    },
    {
      "cell_type": "code",
      "metadata": {
        "colab": {
          "base_uri": "https://localhost:8080/"
        },
        "id": "xg92WZ8pPlQg",
        "outputId": "f91bff6f-639d-4e3f-967e-f8f748efa99c"
      },
      "source": [
        "a = np.array([1,2,3,4,5,6], dtype='float64')\r\n",
        "a"
      ],
      "execution_count": null,
      "outputs": [
        {
          "output_type": "execute_result",
          "data": {
            "text/plain": [
              "array([1., 2., 3., 4., 5., 6.])"
            ]
          },
          "metadata": {
            "tags": []
          },
          "execution_count": 45
        }
      ]
    },
    {
      "cell_type": "code",
      "metadata": {
        "colab": {
          "base_uri": "https://localhost:8080/"
        },
        "id": "DZ4Rvqb1Pr3p",
        "outputId": "e7f300a8-85c1-4524-ce2c-b33f8aec0e93"
      },
      "source": [
        "a = np.array([[1,2,3],[4,5,6]])\r\n",
        "a"
      ],
      "execution_count": null,
      "outputs": [
        {
          "output_type": "execute_result",
          "data": {
            "text/plain": [
              "array([[1, 2, 3],\n",
              "       [4, 5, 6]])"
            ]
          },
          "metadata": {
            "tags": []
          },
          "execution_count": 47
        }
      ]
    },
    {
      "cell_type": "code",
      "metadata": {
        "colab": {
          "base_uri": "https://localhost:8080/"
        },
        "id": "bEZkgh9JPzRF",
        "outputId": "2c029efc-5f57-45ad-a1bf-a55ab6d02e5f"
      },
      "source": [
        "a.shape"
      ],
      "execution_count": null,
      "outputs": [
        {
          "output_type": "execute_result",
          "data": {
            "text/plain": [
              "(2, 3)"
            ]
          },
          "metadata": {
            "tags": []
          },
          "execution_count": 48
        }
      ]
    },
    {
      "cell_type": "code",
      "metadata": {
        "colab": {
          "base_uri": "https://localhost:8080/"
        },
        "id": "WL6DFwyHP2aN",
        "outputId": "aaac3bc2-c364-4613-a860-aab63d0e289c"
      },
      "source": [
        "a.reshape(3,2)"
      ],
      "execution_count": null,
      "outputs": [
        {
          "output_type": "execute_result",
          "data": {
            "text/plain": [
              "array([[1, 2],\n",
              "       [3, 4],\n",
              "       [5, 6]])"
            ]
          },
          "metadata": {
            "tags": []
          },
          "execution_count": 49
        }
      ]
    },
    {
      "cell_type": "code",
      "metadata": {
        "colab": {
          "base_uri": "https://localhost:8080/"
        },
        "id": "4_Mgn1X8P2XT",
        "outputId": "a455c0dd-0f73-43e6-e561-83246c9ec607"
      },
      "source": [
        "a = np.array([[1,2,3],[4,5,6]])\r\n",
        "a.T"
      ],
      "execution_count": null,
      "outputs": [
        {
          "output_type": "execute_result",
          "data": {
            "text/plain": [
              "array([[1, 4],\n",
              "       [2, 5],\n",
              "       [3, 6]])"
            ]
          },
          "metadata": {
            "tags": []
          },
          "execution_count": 50
        }
      ]
    },
    {
      "cell_type": "code",
      "metadata": {
        "colab": {
          "base_uri": "https://localhost:8080/"
        },
        "id": "ciBYzXaLQD5P",
        "outputId": "5d59deff-0f67-4338-bbf7-7054387acd64"
      },
      "source": [
        "a = np.array([1,2,3,4,5,6])\r\n",
        "a.reshape(a.size, 1)\r\n",
        "#横ベクトルを立てベクトルに変換"
      ],
      "execution_count": null,
      "outputs": [
        {
          "output_type": "execute_result",
          "data": {
            "text/plain": [
              "array([[1],\n",
              "       [2],\n",
              "       [3],\n",
              "       [4],\n",
              "       [5],\n",
              "       [6]])"
            ]
          },
          "metadata": {
            "tags": []
          },
          "execution_count": 51
        }
      ]
    },
    {
      "cell_type": "markdown",
      "metadata": {
        "id": "8heAzPCwQYtZ"
      },
      "source": [
        "演習"
      ]
    },
    {
      "cell_type": "code",
      "metadata": {
        "id": "hPUFsl9LQaZl"
      },
      "source": [
        "def is_leap(a):\r\n",
        "  if a % 4 == 0:\r\n",
        "    return True\r\n",
        "  elif a % 100 == 0:\r\n",
        "    return False\r\n",
        "  elif a % 400 == 0:\r\n",
        "    return True\r\n",
        "  else: \r\n",
        "    return False\r\n"
      ],
      "execution_count": null,
      "outputs": []
    },
    {
      "cell_type": "code",
      "metadata": {
        "colab": {
          "base_uri": "https://localhost:8080/"
        },
        "id": "LrPpm_9JRWiT",
        "outputId": "0e5145ed-fcdf-490f-d0d8-3f819fbc9b25"
      },
      "source": [
        "y = 2020\r\n",
        "is_leap(y)"
      ],
      "execution_count": null,
      "outputs": [
        {
          "output_type": "execute_result",
          "data": {
            "text/plain": [
              "True"
            ]
          },
          "metadata": {
            "tags": []
          },
          "execution_count": 68
        }
      ]
    },
    {
      "cell_type": "code",
      "metadata": {
        "colab": {
          "base_uri": "https://localhost:8080/"
        },
        "id": "GNFGfrwFR4oj",
        "outputId": "c8576481-fc7c-4330-a3d8-db9f86ce6d41"
      },
      "source": [
        "for i in range(5):\r\n",
        "  for j in range(i+1):\r\n",
        "    print(\"*\",end='')\r\n",
        "  print()"
      ],
      "execution_count": null,
      "outputs": [
        {
          "output_type": "stream",
          "text": [
            "*\n",
            "**\n",
            "***\n",
            "****\n",
            "*****\n"
          ],
          "name": "stdout"
        }
      ]
    },
    {
      "cell_type": "code",
      "metadata": {
        "id": "amiD5C_FSyTt"
      },
      "source": [
        "def odd_list(dict):\r\n",
        "  odd_list = []\r\n",
        "  for key, value in dict.items():\r\n",
        "    if value % 2 == 1:\r\n",
        "      odd_list.append(key)\r\n",
        "  return odd_list"
      ],
      "execution_count": null,
      "outputs": []
    },
    {
      "cell_type": "code",
      "metadata": {
        "colab": {
          "base_uri": "https://localhost:8080/"
        },
        "id": "14Nv_pgJUNNP",
        "outputId": "88362520-2732-4880-94cf-afd5d808d14d"
      },
      "source": [
        "dict = {'Apple': 1, 'Orange': 2, 'Banana': 3, 'Grape': 4, 'Melon': 5, 'Strawberry': 6}\r\n",
        "odd_list(dict)"
      ],
      "execution_count": null,
      "outputs": [
        {
          "output_type": "execute_result",
          "data": {
            "text/plain": [
              "['Apple', 'Banana', 'Melon']"
            ]
          },
          "metadata": {
            "tags": []
          },
          "execution_count": 102
        }
      ]
    },
    {
      "cell_type": "code",
      "metadata": {
        "id": "aTxpc8oMWAFb"
      },
      "source": [
        "import numpy as np\r\n",
        "def flatten(a):\r\n",
        "  return a.reshape(1, a.size)[0]"
      ],
      "execution_count": null,
      "outputs": []
    },
    {
      "cell_type": "code",
      "metadata": {
        "colab": {
          "base_uri": "https://localhost:8080/"
        },
        "id": "0knLpCCdaymn",
        "outputId": "7f6a4c58-99ce-46e4-dd2d-62146aa625ff"
      },
      "source": [
        "# このプログラムを実行する\r\n",
        "import numpy as np\r\n",
        "a = np.array([[1, 2, 3], [4, 5, 6]])\r\n",
        "flatten(a)"
      ],
      "execution_count": null,
      "outputs": [
        {
          "output_type": "execute_result",
          "data": {
            "text/plain": [
              "array([1, 2, 3, 4, 5, 6])"
            ]
          },
          "metadata": {
            "tags": []
          },
          "execution_count": 112
        }
      ]
    },
    {
      "cell_type": "code",
      "metadata": {
        "id": "fX6g19CgcaLZ"
      },
      "source": [
        "import numpy as np\r\n",
        "def abs_array(a):\r\n",
        "  shape = a.shape\r\n",
        "  abs_list = []\r\n",
        "  for v in flatten(a):\r\n",
        "    if v < 0:\r\n",
        "        v = v * -1\r\n",
        "    abs_list.append(v)\r\n",
        "  abs_array = np.array(abs_list)\r\n",
        "  return abs_array.reshape(shape)\r\n"
      ],
      "execution_count": null,
      "outputs": []
    },
    {
      "cell_type": "code",
      "metadata": {
        "colab": {
          "base_uri": "https://localhost:8080/"
        },
        "id": "HCJxLhDJeWQ1",
        "outputId": "4f211ca7-193b-48a1-b4c6-856d4fc902de"
      },
      "source": [
        "# このプログラムを実行する\r\n",
        "import numpy as np\r\n",
        "a1 = np.array([[1, -2, 3], [-4, -5, 6]])\r\n",
        "print(abs_array(a1))\r\n",
        "a2 = np.array([[-1, 2], [-3, -4], [5, -6]])\r\n",
        "print(abs_array(a2))"
      ],
      "execution_count": null,
      "outputs": [
        {
          "output_type": "stream",
          "text": [
            "[[1 2 3]\n",
            " [4 5 6]]\n",
            "[[1 2]\n",
            " [3 4]\n",
            " [5 6]]\n"
          ],
          "name": "stdout"
        }
      ]
    }
  ]
}